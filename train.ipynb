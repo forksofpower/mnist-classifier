{
 "cells": [
  {
   "cell_type": "code",
   "execution_count": 11,
   "id": "bd1298d1-7db6-492c-9732-5ea46c607898",
   "metadata": {
    "editable": true,
    "slideshow": {
     "slide_type": ""
    },
    "tags": []
   },
   "outputs": [],
   "source": [
    "from __future__ import print_function\n",
    "import time\n",
    "from pandas.core.common import flatten\n",
    "from IPython.display import display_markdown\n",
    "import torch\n",
    "import torch.onnx\n",
    "import torchvision\n",
    "\n",
    "from torch import optim, nn\n",
    "from torchvision import datasets, transforms\n",
    "from torch.optim.lr_scheduler import StepLR\n",
    "from torch.utils.tensorboard import SummaryWriter\n",
    "\n",
    "import matplotlib.pyplot as plt\n",
    "from tqdm import tqdm\n",
    "from tqdm.notebook import tqdm_notebook\n",
    "from functools import reduce\n",
    "\n",
    "from datetime import timedelta\n",
    "\n",
    "from networks import CNN\n",
    "\n",
    "# Setup\n",
    "use_cuda = torch.cuda.is_available()\n",
    "device = torch.device(\"cuda\" if use_cuda else \"cpu\")\n",
    "loss_fn = torch.nn.CrossEntropyLoss()"
   ]
  },
  {
   "cell_type": "code",
   "execution_count": 2,
   "id": "e54f14c0-9aa0-424c-a9ab-152486e84000",
   "metadata": {
    "editable": false,
    "slideshow": {
     "slide_type": ""
    },
    "tags": [
     "parameters"
    ]
   },
   "outputs": [],
   "source": [
    "# Parameters\n",
    "input_size = 28 * 28\n",
    "hidden_layer_size = 512\n",
    "num_classes = 10\n",
    "num_epochs = 15\n",
    "batch_size = 64\n",
    "test_batch_size = 1000\n",
    "training_size = 60000\n",
    "test_size = 10000\n",
    "mean_val = 0.1307\n",
    "standard_deviation_val = 0.3081\n",
    "learning_rate = 1\n",
    "gamma = 0.7\n",
    "step_size=1\n"
   ]
  },
  {
   "cell_type": "code",
   "execution_count": 3,
   "id": "97c99c08-030f-415e-a941-3fef56cd688c",
   "metadata": {},
   "outputs": [],
   "source": [
    "# Dataloaders\n",
    "\n",
    "toTensor = transforms.ToTensor()\n",
    "normalize = transforms.Normalize((mean_val,), (standard_deviation_val,))\n",
    "randomAffine = transforms.RandomAffine(degrees=30, translate=(0.5, 0.5), scale=(0.25, 1), shear=(-30, 30, -30, 30))\n",
    "\n",
    "\n",
    "# load datasets\n",
    "mnist_training = datasets.MNIST(\n",
    "    root='/tmp/mnist', \n",
    "    train=True, \n",
    "    download=True, \n",
    "    transform=transforms.Compose([\n",
    "        randomAffine,\n",
    "        toTensor,\n",
    "        normalize\n",
    "    ])\n",
    ")\n",
    "mnist_val = datasets.MNIST(\n",
    "    root='/tmp/mnist',\n",
    "    train=False,\n",
    "    download=True,\n",
    "    transform=transforms.Compose([\n",
    "        toTensor,\n",
    "        normalize\n",
    "    ])\n",
    ")\n",
    "\n",
    "loader_opts = { 'num_workers': 1, 'pin_memory': True } if use_cuda else {}\n",
    "\n",
    "train_loader = torch.utils.data.DataLoader(mnist_training, batch_size=batch_size, shuffle=True, **loader_opts)\n",
    "test_loader = torch.utils.data.DataLoader(mnist_val, batch_size=test_batch_size, **loader_opts)"
   ]
  },
  {
   "cell_type": "code",
   "execution_count": 4,
   "id": "2dc04abb-02a5-48d9-b605-d64c6d8a8353",
   "metadata": {
    "scrolled": true
   },
   "outputs": [],
   "source": [
    "# Lib\n",
    "def train(\n",
    "    model: nn.Module, \n",
    "    train_loader: torch.utils.data.DataLoader, \n",
    "    device: torch.device, \n",
    "    optimizer: torch.optim.Optimizer, \n",
    "    epoch: int,\n",
    "    bar: tqdm_notebook\n",
    "):\n",
    "    model.train()\n",
    "    losses = []\n",
    "    for batch_idx, (data, target) in enumerate(train_loader):\n",
    "        imgs, labels = data.to(device), target.to(device)\n",
    "        opt.zero_grad()\n",
    "        predictions = model(imgs)\n",
    "        # Compute the loss\n",
    "        loss = loss_fn(predictions, labels)\n",
    "        loss.backward()\n",
    "        losses.append(float(loss))\n",
    "        opt.step()\n",
    "        bar.update(batch_size)\n",
    "    return losses\n",
    "\n",
    "def test(\n",
    "    model: nn.Module,\n",
    "    test_loader: torch.utils.data.DataLoader,\n",
    "    device: torch.device,\n",
    "    bar: tqdm\n",
    "):\n",
    "    model.eval()\n",
    "    test_loss = 0\n",
    "    correct = 0\n",
    "    with torch.no_grad():\n",
    "        for data, target in test_loader:\n",
    "            data, target = data.to(device), target.to(device)\n",
    "            img_grid = torchvision.utils.make_grid(data)\n",
    "            output = model(data)\n",
    "            test_loss += loss_fn(output, target).sum().item()\n",
    "            pred = output.argmax(dim=1, keepdim=True)\n",
    "            correct += pred.eq(target.view_as(pred)).sum().item()\n",
    "            bar.update(test_batch_size)"
   ]
  },
  {
   "cell_type": "code",
   "execution_count": 5,
   "id": "f9a72193-d851-415e-88bd-82aef2796d2f",
   "metadata": {
    "editable": true,
    "scrolled": true,
    "slideshow": {
     "slide_type": ""
    },
    "tags": []
   },
   "outputs": [
    {
     "data": {
      "application/vnd.jupyter.widget-view+json": {
       "model_id": "05ccc1eb6367415ea5738b136c94ae0e",
       "version_major": 2,
       "version_minor": 0
      },
      "text/plain": [
       "            00:00/?"
      ]
     },
     "metadata": {},
     "output_type": "display_data"
    },
    {
     "data": {
      "application/vnd.jupyter.widget-view+json": {
       "model_id": "eb377d42a32244dab2d98d68aef0ba62",
       "version_major": 2,
       "version_minor": 0
      },
      "text/plain": [
       "Train:   0%|          | 0/60000 [00:00<?, ?it/s]"
      ]
     },
     "metadata": {},
     "output_type": "display_data"
    },
    {
     "data": {
      "application/vnd.jupyter.widget-view+json": {
       "model_id": "d6431468c08a49c6bd53214224964d61",
       "version_major": 2,
       "version_minor": 0
      },
      "text/plain": [
       "Test :   0%|          | 0/10000 [00:00<?, ?it/s]"
      ]
     },
     "metadata": {},
     "output_type": "display_data"
    },
    {
     "name": "stdout",
     "output_type": "stream",
     "text": [
      "Training Finished\n"
     ]
    }
   ],
   "source": [
    "torch.backends.cudnn.benchmark = True\n",
    "\n",
    "model = CNN().to(device)\n",
    "\n",
    "opt = torch.optim.Adadelta(params=model.parameters(), lr=learning_rate)\n",
    "\n",
    "losses = []\n",
    "test_losses = []\n",
    "\n",
    "# progress bars\n",
    "epoch_bar    = tqdm_notebook(position=1, total=num_epochs, bar_format=\"{desc} {bar} {elapsed}/{remaining}\")\n",
    "training_bar = tqdm_notebook(position=2, total=training_size, desc=\"Train\", mininterval=0.05)\n",
    "testing_bar  = tqdm_notebook(position=3, total=test_size,     desc=\"Test \")\n",
    "\n",
    "\n",
    "scheduler = StepLR(opt, step_size=step_size, gamma=gamma)\n",
    "for epoch in range(num_epochs):\n",
    "    # update and reset progress bars\n",
    "    epoch_bar.set_description_str(f'Epoch: {epoch}')\n",
    "    training_bar.reset()\n",
    "    testing_bar.reset()\n",
    "    \n",
    "    epoch_losses = train(model, train_loader, device, opt, epoch, bar=training_bar)\n",
    "    test(model, test_loader, device, bar=testing_bar)\n",
    "    losses.append(epoch_losses)\n",
    "    \n",
    "    epoch_bar.update(1)\n",
    "    scheduler.step()\n",
    "print('Training Finished')"
   ]
  },
  {
   "cell_type": "code",
   "execution_count": 6,
   "id": "172b47d5-56ff-484b-b19b-c7c1c97603cb",
   "metadata": {
    "editable": true,
    "slideshow": {
     "slide_type": ""
    },
    "tags": []
   },
   "outputs": [
    {
     "data": {
      "text/plain": [
       "[<matplotlib.lines.Line2D at 0x2bf9ee3b2d0>]"
      ]
     },
     "execution_count": 6,
     "metadata": {},
     "output_type": "execute_result"
    },
    {
     "data": {
      "image/png": "[encoded data removed]",
      "text/plain": [
       "<Figure size 640x480 with 1 Axes>"
      ]
     },
     "metadata": {},
     "output_type": "display_data"
    }
   ],
   "source": [
    "# Plot Learning Curve\n",
    "# print(losses)\n",
    "plt.plot(list(flatten(losses)))"
   ]
  },
  {
   "cell_type": "code",
   "execution_count": 14,
   "id": "32523547-1354-4fe2-a26a-8c0e9ab8539d",
   "metadata": {
    "editable": true,
    "slideshow": {
     "slide_type": ""
    },
    "tags": []
   },
   "outputs": [
    {
     "data": {
      "text/markdown": [
       "# Accuracy: 97.33%"
      ]
     },
     "metadata": {},
     "output_type": "display_data"
    }
   ],
   "source": [
    "# Determine the accuracy of our clasifier\n",
    "loader = torch.utils.data.DataLoader(mnist_val, batch_size=test_size, **loader_opts)\n",
    "data, target = next(iter(loader))\n",
    "images, labels = data.to(device), target.to(device)\n",
    "\n",
    "predictions = model(images).to(device)\n",
    "\n",
    "# For each row determine the column index with the maximum score. This is the\n",
    "# predicted class.\n",
    "predicted_classes = torch.argmax(predictions, dim=1)\n",
    "\n",
    "# Accuracy = number of correctly classified images divided by the total number\n",
    "# of classified images.\n",
    "accuracy = sum(predicted_classes.cpu().numpy() == labels.cpu().numpy()) / test_size\n",
    "display_markdown('# Accuracy: {:.2f}%'.format(100. * accuracy), raw=True)"
   ]
  },
  {
   "cell_type": "code",
   "execution_count": null,
   "id": "c3c0f19c-57ea-43a9-a9b6-ce6ea82b8066",
   "metadata": {
    "editable": true,
    "slideshow": {
     "slide_type": ""
    },
    "tags": []
   },
   "outputs": [],
   "source": [
    "# export to onnx format\n",
    "def onnxExport(net: nn.Module, state_dict):\n",
    "    pytorch_model = ImprovedCNN(inference=True)\n",
    "    pytorch_model.load_state_dict(state_dict)\n",
    "    pytorch_model.eval()\n",
    "    dummy_input = torch.zeros([280 * 280 * 4])\n",
    "    torch.onnx.export(pytorch_model, dummy_input, 'mnist_inference_model.onnx', verbose=True, opset_version=9)\n",
    "\n",
    "\n",
    "model_state = model.state_dict()\n",
    "onnxExport(ImprovedCNN, model_state)\n",
    "\n"
   ]
  }
 ],
 "metadata": {
  "kernelspec": {
   "display_name": "Python 3 (ipykernel)",
   "language": "python",
   "name": "python3"
  },
  "language_info": {
   "codemirror_mode": {
    "name": "ipython",
    "version": 3
   },
   "file_extension": ".py",
   "mimetype": "text/x-python",
   "name": "python",
   "nbconvert_exporter": "python",
   "pygments_lexer": "ipython3",
   "version": "3.11.7"
  }
 },
 "nbformat": 4,
 "nbformat_minor": 5
}
